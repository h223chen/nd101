{
 "cells": [
  {
   "cell_type": "markdown",
   "metadata": {},
   "source": [
    "# Character-Level LSTM in PyTorch\n",
    "\n",
    "In this notebook, I'll construct a character-level LSTM with PyTorch. The network will train character by character on some text, then generate new text character by character. As an example, I will train on Anna Karenina. **This model will be able to generate new text based on the text from the book!**\n",
    "\n",
    "This network is based off of Andrej Karpathy's [post on RNNs](http://karpathy.github.io/2015/05/21/rnn-effectiveness/) and [implementation in Torch](https://github.com/karpathy/char-rnn). Below is the general architecture of the character-wise RNN.\n",
    "\n",
    "<img src=\"assets/charseq.jpeg\" width=\"500\">"
   ]
  },
  {
   "cell_type": "markdown",
   "metadata": {},
   "source": [
    "First let's load in our required resources for data loading and model creation."
   ]
  },
  {
   "cell_type": "code",
   "execution_count": 97,
   "metadata": {},
   "outputs": [],
   "source": [
    "import numpy as np\n",
    "import torch\n",
    "from torch import nn\n",
    "import torch.nn.functional as F"
   ]
  },
  {
   "cell_type": "markdown",
   "metadata": {},
   "source": [
    "## Load in Data\n",
    "\n",
    "Then, we'll load the Anna Karenina text file and convert it into integers for our network to use. "
   ]
  },
  {
   "cell_type": "code",
   "execution_count": 98,
   "metadata": {},
   "outputs": [],
   "source": [
    "# open text file and read in data as `text`\n",
    "with open('data/anna.txt', 'r') as f:\n",
    "    text = f.read()"
   ]
  },
  {
   "cell_type": "markdown",
   "metadata": {},
   "source": [
    "Let's check out the first 100 characters, make sure everything is peachy. According to the [American Book Review](http://americanbookreview.org/100bestlines.asp), this is the 6th best first line of a book ever."
   ]
  },
  {
   "cell_type": "code",
   "execution_count": 99,
   "metadata": {},
   "outputs": [
    {
     "data": {
      "text/plain": [
       "'Chapter 1\\n\\n\\nHappy families are all alike; every unhappy family is unhappy in its own\\nway.\\n\\nEverythin'"
      ]
     },
     "execution_count": 99,
     "metadata": {},
     "output_type": "execute_result"
    }
   ],
   "source": [
    "text[:100]"
   ]
  },
  {
   "cell_type": "markdown",
   "metadata": {},
   "source": [
    "### Tokenization\n",
    "\n",
    "In the cells, below, I'm creating a couple **dictionaries** to convert the characters to and from integers. Encoding the characters as integers makes it easier to use as input in the network."
   ]
  },
  {
   "cell_type": "code",
   "execution_count": 100,
   "metadata": {},
   "outputs": [],
   "source": [
    "# encode the text and map each character to an integer and vice versa\n",
    "\n",
    "# we create two dictionaries:\n",
    "# 1. int2char, which maps integers to characters\n",
    "# 2. char2int, which maps characters to unique integers\n",
    "chars = tuple(set(text))\n",
    "int2char = dict(enumerate(chars))\n",
    "char2int = {ch: ii for ii, ch in int2char.items()}\n",
    "\n",
    "# encode the text\n",
    "encoded = np.array([char2int[ch] for ch in text])"
   ]
  },
  {
   "cell_type": "markdown",
   "metadata": {},
   "source": [
    "And we can see those same characters from above, encoded as integers."
   ]
  },
  {
   "cell_type": "code",
   "execution_count": 101,
   "metadata": {},
   "outputs": [
    {
     "data": {
      "text/plain": [
       "array([35, 17, 39, 51, 75, 72, 82, 24, 66, 38, 38, 38, 70, 39, 51, 51, 64,\n",
       "       24, 56, 39, 49, 62, 73, 62, 72, 15, 24, 39, 82, 72, 24, 39, 73, 73,\n",
       "       24, 39, 73, 62, 12, 72, 67, 24, 72, 31, 72, 82, 64, 24, 43, 33, 17,\n",
       "       39, 51, 51, 64, 24, 56, 39, 49, 62, 73, 64, 24, 62, 15, 24, 43, 33,\n",
       "       17, 39, 51, 51, 64, 24, 62, 33, 24, 62, 75, 15, 24, 77, 41, 33, 38,\n",
       "       41, 39, 64, 52, 38, 38, 71, 31, 72, 82, 64, 75, 17, 62, 33])"
      ]
     },
     "execution_count": 101,
     "metadata": {},
     "output_type": "execute_result"
    }
   ],
   "source": [
    "encoded[:100]"
   ]
  },
  {
   "cell_type": "markdown",
   "metadata": {},
   "source": [
    "## Pre-processing the data\n",
    "\n",
    "As you can see in our char-RNN image above, our LSTM expects an input that is **one-hot encoded** meaning that each character is converted into an integer (via our created dictionary) and *then* converted into a column vector where only it's corresponding integer index will have the value of 1 and the rest of the vector will be filled with 0's. Since we're one-hot encoding the data, let's make a function to do that!\n"
   ]
  },
  {
   "cell_type": "code",
   "execution_count": 102,
   "metadata": {},
   "outputs": [],
   "source": [
    "def one_hot_encode(arr, n_labels):\n",
    "    \n",
    "    # Initialize the the encoded array\n",
    "    one_hot = np.zeros((np.multiply(*arr.shape), n_labels), dtype=np.float32)\n",
    "    \n",
    "    # Fill the appropriate elements with ones\n",
    "    one_hot[np.arange(one_hot.shape[0]), arr.flatten()] = 1.\n",
    "    \n",
    "    # Finally reshape it to get back to the original array\n",
    "    one_hot = one_hot.reshape((*arr.shape, n_labels))\n",
    "    \n",
    "    return one_hot"
   ]
  },
  {
   "cell_type": "code",
   "execution_count": 103,
   "metadata": {},
   "outputs": [
    {
     "name": "stdout",
     "output_type": "stream",
     "text": [
      "[[[0. 0. 0. 1. 0. 0. 0. 0.]\n",
      "  [0. 0. 0. 0. 0. 1. 0. 0.]\n",
      "  [0. 1. 0. 0. 0. 0. 0. 0.]]]\n"
     ]
    }
   ],
   "source": [
    "# check that the function works as expected\n",
    "test_seq = np.array([[3, 5, 1]])\n",
    "one_hot = one_hot_encode(test_seq, 8)\n",
    "\n",
    "print(one_hot)"
   ]
  },
  {
   "cell_type": "markdown",
   "metadata": {},
   "source": [
    "## Making training mini-batches\n",
    "\n",
    "\n",
    "To train on this data, we also want to create mini-batches for training. Remember that we want our batches to be multiple sequences of some desired number of sequence steps. Considering a simple example, our batches would look like this:\n",
    "\n",
    "<img src=\"assets/sequence_batching@1x.png\" width=500px>\n",
    "\n",
    "\n",
    "<br>\n",
    "\n",
    "In this example, we'll take the encoded characters (passed in as the `arr` parameter) and split them into multiple sequences, given by `batch_size`. Each of our sequences will be `seq_length` long.\n",
    "\n",
    "### Creating Batches\n",
    "\n",
    "**1. The first thing we need to do is discard some of the text so we only have completely full mini-batches. **\n",
    "\n",
    "Each batch contains $N \\times M$ characters, where $N$ is the batch size (the number of sequences in a batch) and $M$ is the seq_length or number of time steps in a sequence. Then, to get the total number of batches, $K$, that we can make from the array `arr`, you divide the length of `arr` by the number of characters per batch. Once you know the number of batches, you can get the total number of characters to keep from `arr`, $N * M * K$.\n",
    "\n",
    "**2. After that, we need to split `arr` into $N$ batches. ** \n",
    "\n",
    "You can do this using `arr.reshape(size)` where `size` is a tuple containing the dimensions sizes of the reshaped array. We know we want $N$ sequences in a batch, so let's make that the size of the first dimension. For the second dimension, you can use `-1` as a placeholder in the size, it'll fill up the array with the appropriate data for you. After this, you should have an array that is $N \\times (M * K)$.\n",
    "\n",
    "**3. Now that we have this array, we can iterate through it to get our mini-batches. **\n",
    "\n",
    "The idea is each batch is a $N \\times M$ window on the $N \\times (M * K)$ array. For each subsequent batch, the window moves over by `seq_length`. We also want to create both the input and target arrays. Remember that the targets are just the inputs shifted over by one character. The way I like to do this window is use `range` to take steps of size `n_steps` from $0$ to `arr.shape[1]`, the total number of tokens in each sequence. That way, the integers you get from `range` always point to the start of a batch, and each window is `seq_length` wide.\n",
    "\n",
    "> **TODO:** Write the code for creating batches in the function below. The exercises in this notebook _will not be easy_. I've provided a notebook with solutions alongside this notebook. If you get stuck, checkout the solutions. The most important thing is that you don't copy and paste the code into here, **type out the solution code yourself.**"
   ]
  },
  {
   "cell_type": "code",
   "execution_count": 192,
   "metadata": {},
   "outputs": [],
   "source": [
    "def get_batches(arr, batch_size, seq_length):\n",
    "    '''Create a generator that returns batches of size\n",
    "       batch_size x seq_length from arr.\n",
    "       \n",
    "       Arguments\n",
    "       ---------\n",
    "       arr: Array you want to make batches from\n",
    "       batch_size: Batch size, the number of sequences per batch\n",
    "       seq_length: Number of encoded chars in a sequence\n",
    "    '''\n",
    "\n",
    "    batch_size_total = batch_size*seq_length\n",
    "    n_batches = arr.shape[0] // batch_size_total\n",
    "    \n",
    "    arr = arr[:int(n_batches * batch_size_total)]\n",
    "    arr = arr.reshape((batch_size, -1))\n",
    "    \n",
    "    ## TODO: Iterate over the batches using a window of size seq_length\n",
    "    for n in range(0, arr.shape[1], seq_length):\n",
    "#         The features\n",
    "        x = arr[:, n:n+seq_length]\n",
    "#         The targets, shifted by one\n",
    "        y = np.zeros_like(x)\n",
    "    \n",
    "        try:\n",
    "            y[:, :-1], y[:, -1] = x[:, 1:], arr[:, n+seq_length]\n",
    "        except IndexError:\n",
    "            y[:, :-1], y[:, -1] = x[:, 1:], arr[:, 0]\n",
    "        \n",
    "        yield x, y"
   ]
  },
  {
   "cell_type": "markdown",
   "metadata": {},
   "source": [
    "### Test Your Implementation\n",
    "\n",
    "Now I'll make some data sets and we can check out what's going on as we batch data. Here, as an example, I'm going to use a batch size of 8 and 50 sequence steps."
   ]
  },
  {
   "cell_type": "code",
   "execution_count": 193,
   "metadata": {},
   "outputs": [],
   "source": [
    "batches = get_batches(encoded, 8, 50)\n",
    "x, y = next(batches)"
   ]
  },
  {
   "cell_type": "code",
   "execution_count": 194,
   "metadata": {},
   "outputs": [
    {
     "name": "stdout",
     "output_type": "stream",
     "text": [
      "x\n",
      " [[35 17 39 51 75 72 82 24 66 38]\n",
      " [15 77 33 24 75 17 39 75 24 39]\n",
      " [72 33  4 24 77 82 24 39 24 56]\n",
      " [15 24 75 17 72 24  1 17 62 72]\n",
      " [24 15 39 41 24 17 72 82 24 75]\n",
      " [ 1 43 15 15 62 77 33 24 39 33]\n",
      " [24  6 33 33 39 24 17 39  4 24]\n",
      " [78 54 73 77 33 15 12 64 52 24]]\n",
      "\n",
      "y\n",
      " [[17 39 51 75 72 82 24 66 38 38]\n",
      " [77 33 24 75 17 39 75 24 39 75]\n",
      " [33  4 24 77 82 24 39 24 56 77]\n",
      " [24 75 17 72 24  1 17 62 72 56]\n",
      " [15 39 41 24 17 72 82 24 75 72]\n",
      " [43 15 15 62 77 33 24 39 33  4]\n",
      " [ 6 33 33 39 24 17 39  4 24 15]\n",
      " [54 73 77 33 15 12 64 52 24 60]]\n"
     ]
    }
   ],
   "source": [
    "# printing out the first 10 items in a sequence\n",
    "print('x\\n', x[:10, :10])\n",
    "print('\\ny\\n', y[:10, :10])"
   ]
  },
  {
   "cell_type": "markdown",
   "metadata": {},
   "source": [
    "If you implemented `get_batches` correctly, the above output should look something like \n",
    "```\n",
    "x\n",
    " [[25  8 60 11 45 27 28 73  1  2]\n",
    " [17  7 20 73 45  8 60 45 73 60]\n",
    " [27 20 80 73  7 28 73 60 73 65]\n",
    " [17 73 45  8 27 73 66  8 46 27]\n",
    " [73 17 60 12 73  8 27 28 73 45]\n",
    " [66 64 17 17 46  7 20 73 60 20]\n",
    " [73 76 20 20 60 73  8 60 80 73]\n",
    " [47 35 43  7 20 17 24 50 37 73]]\n",
    "\n",
    "y\n",
    " [[ 8 60 11 45 27 28 73  1  2  2]\n",
    " [ 7 20 73 45  8 60 45 73 60 45]\n",
    " [20 80 73  7 28 73 60 73 65  7]\n",
    " [73 45  8 27 73 66  8 46 27 65]\n",
    " [17 60 12 73  8 27 28 73 45 27]\n",
    " [64 17 17 46  7 20 73 60 20 80]\n",
    " [76 20 20 60 73  8 60 80 73 17]\n",
    " [35 43  7 20 17 24 50 37 73 36]]\n",
    " ```\n",
    " although the exact numbers may be different. Check to make sure the data is shifted over one step for `y`."
   ]
  },
  {
   "cell_type": "markdown",
   "metadata": {},
   "source": [
    "---\n",
    "## Defining the network with PyTorch\n",
    "\n",
    "Below is where you'll define the network.\n",
    "\n",
    "<img src=\"assets/charRNN.png\" width=500px>\n",
    "\n",
    "Next, you'll use PyTorch to define the architecture of the network. We start by defining the layers and operations we want. Then, define a method for the forward pass. You've also been given a method for predicting characters."
   ]
  },
  {
   "cell_type": "markdown",
   "metadata": {},
   "source": [
    "### Model Structure\n",
    "\n",
    "In `__init__` the suggested structure is as follows:\n",
    "* Create and store the necessary dictionaries (this has been done for you)\n",
    "* Define an LSTM layer that takes as params: an input size (the number of characters), a hidden layer size `n_hidden`, a number of layers `n_layers`, a dropout probability `drop_prob`, and a batch_first boolean (True, since we are batching)\n",
    "* Define a dropout layer with `drop_prob`\n",
    "* Define a fully-connected layer with params: input size `n_hidden` and output size (the number of characters)\n",
    "* Finally, initialize the weights (again, this has been given)\n",
    "\n",
    "Note that some parameters have been named and given in the `__init__` function, and we use them and store them by doing something like `self.drop_prob = drop_prob`."
   ]
  },
  {
   "cell_type": "markdown",
   "metadata": {},
   "source": [
    "---\n",
    "### LSTM Inputs/Outputs\n",
    "\n",
    "You can create a basic [LSTM layer](https://pytorch.org/docs/stable/nn.html#lstm) as follows\n",
    "\n",
    "```python\n",
    "self.lstm = nn.LSTM(input_size, n_hidden, n_layers, \n",
    "                            dropout=drop_prob, batch_first=True)\n",
    "```\n",
    "\n",
    "where `input_size` is the number of characters this cell expects to see as sequential input, and `n_hidden` is the number of units in the hidden layers in the cell. And we can add dropout by adding a dropout parameter with a specified probability; this will automatically add dropout to the inputs or outputs. Finally, in the `forward` function, we can stack up the LSTM cells into layers using `.view`. With this, you pass in a list of cells and it will send the output of one cell into the next cell.\n",
    "\n",
    "We also need to create an initial hidden state of all zeros. This is done like so\n",
    "\n",
    "```python\n",
    "self.init_hidden()\n",
    "```"
   ]
  },
  {
   "cell_type": "code",
   "execution_count": 195,
   "metadata": {},
   "outputs": [
    {
     "name": "stdout",
     "output_type": "stream",
     "text": [
      "Training on GPU!\n"
     ]
    }
   ],
   "source": [
    "# check if GPU is available\n",
    "train_on_gpu = torch.cuda.is_available()\n",
    "if(train_on_gpu):\n",
    "    print('Training on GPU!')\n",
    "else: \n",
    "    print('No GPU available, training on CPU; consider making n_epochs very small.')"
   ]
  },
  {
   "cell_type": "code",
   "execution_count": 216,
   "metadata": {},
   "outputs": [],
   "source": [
    "class CharRNN(nn.Module):\n",
    "    \n",
    "    def __init__(self, tokens, n_hidden=256, n_layers=2,\n",
    "                               drop_prob=0.5, lr=0.001):\n",
    "        super().__init__()\n",
    "        self.drop_prob = drop_prob\n",
    "        self.n_layers = n_layers\n",
    "        self.n_hidden = n_hidden\n",
    "        self.lr = lr\n",
    "        \n",
    "        # creating character dictionaries\n",
    "        self.chars = tokens\n",
    "        self.int2char = dict(enumerate(self.chars))\n",
    "        self.char2int = {ch: ii for ii, ch in self.int2char.items()}\n",
    "        \n",
    "        self.lstm = nn.LSTM(len(self.chars), n_hidden, n_layers, dropout=drop_prob, batch_first=True)\n",
    "        self.dropout = nn.Dropout(drop_prob)\n",
    "        self.fc = nn.Linear(n_hidden, len(tokens))\n",
    "    \n",
    "    def forward(self, x, hidden):\n",
    "        ''' Forward pass through the network. \n",
    "            These inputs are x, and the hidden/cell state `hidden`. '''\n",
    "        output, hidden = self.lstm(x, hidden)\n",
    "        y = self.dropout(output)\n",
    "        y = y.contiguous().view(-1, self.n_hidden)\n",
    "        y = self.fc(y)\n",
    "        \n",
    "        # return the final output and the hidden state\n",
    "        return y, hidden\n",
    "    \n",
    "    \n",
    "    def init_hidden(self, batch_size):\n",
    "        ''' Initializes hidden state '''\n",
    "        # Create two new tensors with sizes n_layers x batch_size x n_hidden,\n",
    "        # initialized to zero, for hidden state and cell state of LSTM\n",
    "        weight = next(self.parameters()).data\n",
    "        \n",
    "        if (train_on_gpu):\n",
    "            hidden = (weight.new(self.n_layers, batch_size, self.n_hidden).zero_().cuda(),\n",
    "                  weight.new(self.n_layers, batch_size, self.n_hidden).zero_().cuda())\n",
    "        else:\n",
    "            hidden = (weight.new(self.n_layers, batch_size, self.n_hidden).zero_(),\n",
    "                      weight.new(self.n_layers, batch_size, self.n_hidden).zero_())\n",
    "        \n",
    "        return hidden\n",
    "        "
   ]
  },
  {
   "cell_type": "markdown",
   "metadata": {},
   "source": [
    "## Time to train\n",
    "\n",
    "The train function gives us the ability to set the number of epochs, the learning rate, and other parameters.\n",
    "\n",
    "Below we're using an Adam optimizer and cross entropy loss since we are looking at character class scores as output. We calculate the loss and perform backpropagation, as usual!\n",
    "\n",
    "A couple of details about training: \n",
    ">* Within the batch loop, we detach the hidden state from its history; this time setting it equal to a new *tuple* variable because an LSTM has a hidden state that is a tuple of the hidden and cell states.\n",
    "* We use [`clip_grad_norm_`](https://pytorch.org/docs/stable/_modules/torch/nn/utils/clip_grad.html) to help prevent exploding gradients."
   ]
  },
  {
   "cell_type": "code",
   "execution_count": 217,
   "metadata": {},
   "outputs": [],
   "source": [
    "def train(net, data, epochs=10, batch_size=10, seq_length=50, lr=0.001, clip=5, val_frac=0.1, print_every=10):\n",
    "    ''' Training a network \n",
    "    \n",
    "        Arguments\n",
    "        ---------\n",
    "        \n",
    "        net: CharRNN network\n",
    "        data: text data to train the network\n",
    "        epochs: Number of epochs to train\n",
    "        batch_size: Number of mini-sequences per mini-batch, aka batch size\n",
    "        seq_length: Number of character steps per mini-batch\n",
    "        lr: learning rate\n",
    "        clip: gradient clipping\n",
    "        val_frac: Fraction of data to hold out for validation\n",
    "        print_every: Number of steps for printing training and validation loss\n",
    "    \n",
    "    '''\n",
    "    net.train()\n",
    "    \n",
    "    opt = torch.optim.Adam(net.parameters(), lr=lr)\n",
    "    criterion = nn.CrossEntropyLoss()\n",
    "    \n",
    "    # create training and validation data\n",
    "    val_idx = int(len(data)*(1-val_frac))\n",
    "    data, val_data = data[:val_idx], data[val_idx:]\n",
    "    \n",
    "    if(train_on_gpu):\n",
    "        net.cuda()\n",
    "    \n",
    "    counter = 0\n",
    "    n_chars = len(net.chars)\n",
    "    for e in range(epochs):\n",
    "        # initialize hidden state\n",
    "        h = net.init_hidden(batch_size)\n",
    "        \n",
    "        for x, y in get_batches(data, batch_size, seq_length):\n",
    "            counter += 1\n",
    "            \n",
    "            # One-hot encode our data and make them Torch tensors\n",
    "            x = one_hot_encode(x, n_chars)\n",
    "            inputs, targets = torch.from_numpy(x), torch.from_numpy(y)\n",
    "            \n",
    "            if(train_on_gpu):\n",
    "                inputs, targets = inputs.cuda(), targets.cuda()\n",
    "\n",
    "            # Creating new variables for the hidden state, otherwise\n",
    "            # we'd backprop through the entire training history\n",
    "            h = tuple([each.data for each in h])\n",
    "\n",
    "            # zero accumulated gradients\n",
    "            net.zero_grad()\n",
    "            \n",
    "            # get the output from the model\n",
    "            output, h = net(inputs, h)\n",
    "\n",
    "            # calculate the loss and perform backprop\n",
    "            loss = criterion(output, targets.view(batch_size*seq_length).long())\n",
    "            loss.backward()\n",
    "            # `clip_grad_norm` helps prevent the exploding gradient problem in RNNs / LSTMs.\n",
    "            nn.utils.clip_grad_norm_(net.parameters(), clip)\n",
    "            opt.step()\n",
    "            \n",
    "            # loss stats\n",
    "            if counter % print_every == 0:\n",
    "                # Get validation loss\n",
    "                val_h = net.init_hidden(batch_size)\n",
    "                val_losses = []\n",
    "                net.eval()\n",
    "                for x, y in get_batches(val_data, batch_size, seq_length):\n",
    "                    # One-hot encode our data and make them Torch tensors\n",
    "                    x = one_hot_encode(x, n_chars)\n",
    "                    x, y = torch.from_numpy(x), torch.from_numpy(y)\n",
    "                    \n",
    "                    # Creating new variables for the hidden state, otherwise\n",
    "                    # we'd backprop through the entire training history\n",
    "                    val_h = tuple([each.data for each in val_h])\n",
    "                    \n",
    "                    inputs, targets = x, y\n",
    "                    if(train_on_gpu):\n",
    "                        inputs, targets = inputs.cuda(), targets.cuda()\n",
    "\n",
    "                    output, val_h = net(inputs, val_h)\n",
    "                    val_loss = criterion(output, targets.view(batch_size*seq_length).long())\n",
    "                \n",
    "                    val_losses.append(val_loss.item())\n",
    "                \n",
    "                net.train() # reset to train mode after iterationg through validation data\n",
    "                \n",
    "                print(\"Epoch: {}/{}...\".format(e+1, epochs),\n",
    "                      \"Step: {}...\".format(counter),\n",
    "                      \"Loss: {:.4f}...\".format(loss.item()),\n",
    "                      \"Val Loss: {:.4f}\".format(np.mean(val_losses)))"
   ]
  },
  {
   "cell_type": "markdown",
   "metadata": {},
   "source": [
    "## Instantiating the model\n",
    "\n",
    "Now we can actually train the network. First we'll create the network itself, with some given hyperparameters. Then, define the mini-batches sizes, and start training!"
   ]
  },
  {
   "cell_type": "code",
   "execution_count": 218,
   "metadata": {},
   "outputs": [
    {
     "name": "stdout",
     "output_type": "stream",
     "text": [
      "CharRNN(\n",
      "  (lstm): LSTM(83, 512, num_layers=2, batch_first=True, dropout=0.5)\n",
      "  (dropout): Dropout(p=0.5)\n",
      "  (fc): Linear(in_features=512, out_features=83, bias=True)\n",
      ")\n"
     ]
    }
   ],
   "source": [
    "# define and print the net\n",
    "n_hidden=512\n",
    "n_layers=2\n",
    "\n",
    "net = CharRNN(chars, n_hidden, n_layers)\n",
    "print(net)"
   ]
  },
  {
   "cell_type": "markdown",
   "metadata": {},
   "source": [
    "### Set your training hyperparameters!"
   ]
  },
  {
   "cell_type": "code",
   "execution_count": 219,
   "metadata": {
    "scrolled": true
   },
   "outputs": [
    {
     "name": "stdout",
     "output_type": "stream",
     "text": [
      "Epoch: 1/20... Step: 10... Loss: 3.2462... Val Loss: 3.1755\n",
      "Epoch: 1/20... Step: 20... Loss: 3.1443... Val Loss: 3.1289\n",
      "Epoch: 1/20... Step: 30... Loss: 3.1400... Val Loss: 3.1205\n",
      "Epoch: 1/20... Step: 40... Loss: 3.1124... Val Loss: 3.1187\n",
      "Epoch: 1/20... Step: 50... Loss: 3.1410... Val Loss: 3.1167\n",
      "Epoch: 1/20... Step: 60... Loss: 3.1166... Val Loss: 3.1141\n",
      "Epoch: 1/20... Step: 70... Loss: 3.1032... Val Loss: 3.1097\n",
      "Epoch: 1/20... Step: 80... Loss: 3.1102... Val Loss: 3.0986\n",
      "Epoch: 1/20... Step: 90... Loss: 3.0923... Val Loss: 3.0738\n",
      "Epoch: 1/20... Step: 100... Loss: 3.0394... Val Loss: 3.0186\n",
      "Epoch: 1/20... Step: 110... Loss: 2.9692... Val Loss: 2.9369\n",
      "Epoch: 1/20... Step: 120... Loss: 2.8321... Val Loss: 2.8573\n",
      "Epoch: 1/20... Step: 130... Loss: 2.7583... Val Loss: 2.7031\n",
      "Epoch: 2/20... Step: 140... Loss: 2.6525... Val Loss: 2.6079\n",
      "Epoch: 2/20... Step: 150... Loss: 2.5918... Val Loss: 2.5498\n",
      "Epoch: 2/20... Step: 160... Loss: 2.5325... Val Loss: 2.4858\n",
      "Epoch: 2/20... Step: 170... Loss: 2.4585... Val Loss: 2.4422\n",
      "Epoch: 2/20... Step: 180... Loss: 2.4311... Val Loss: 2.4141\n",
      "Epoch: 2/20... Step: 190... Loss: 2.3904... Val Loss: 2.3861\n",
      "Epoch: 2/20... Step: 200... Loss: 2.3842... Val Loss: 2.3494\n",
      "Epoch: 2/20... Step: 210... Loss: 2.3470... Val Loss: 2.3258\n",
      "Epoch: 2/20... Step: 220... Loss: 2.3059... Val Loss: 2.2915\n",
      "Epoch: 2/20... Step: 230... Loss: 2.2978... Val Loss: 2.2637\n",
      "Epoch: 2/20... Step: 240... Loss: 2.2760... Val Loss: 2.2354\n",
      "Epoch: 2/20... Step: 250... Loss: 2.2104... Val Loss: 2.2132\n",
      "Epoch: 2/20... Step: 260... Loss: 2.1773... Val Loss: 2.1879\n",
      "Epoch: 2/20... Step: 270... Loss: 2.1942... Val Loss: 2.1682\n",
      "Epoch: 3/20... Step: 280... Loss: 2.1868... Val Loss: 2.1494\n",
      "Epoch: 3/20... Step: 290... Loss: 2.1542... Val Loss: 2.1210\n",
      "Epoch: 3/20... Step: 300... Loss: 2.1245... Val Loss: 2.0974\n",
      "Epoch: 3/20... Step: 310... Loss: 2.1034... Val Loss: 2.0812\n",
      "Epoch: 3/20... Step: 320... Loss: 2.0676... Val Loss: 2.0579\n",
      "Epoch: 3/20... Step: 330... Loss: 2.0484... Val Loss: 2.0449\n",
      "Epoch: 3/20... Step: 340... Loss: 2.0629... Val Loss: 2.0235\n",
      "Epoch: 3/20... Step: 350... Loss: 2.0416... Val Loss: 2.0068\n",
      "Epoch: 3/20... Step: 360... Loss: 1.9745... Val Loss: 1.9905\n",
      "Epoch: 3/20... Step: 370... Loss: 2.0067... Val Loss: 1.9759\n",
      "Epoch: 3/20... Step: 380... Loss: 1.9815... Val Loss: 1.9598\n",
      "Epoch: 3/20... Step: 390... Loss: 1.9530... Val Loss: 1.9467\n",
      "Epoch: 3/20... Step: 400... Loss: 1.9318... Val Loss: 1.9279\n",
      "Epoch: 3/20... Step: 410... Loss: 1.9451... Val Loss: 1.9162\n",
      "Epoch: 4/20... Step: 420... Loss: 1.9340... Val Loss: 1.9006\n",
      "Epoch: 4/20... Step: 430... Loss: 1.9184... Val Loss: 1.8855\n",
      "Epoch: 4/20... Step: 440... Loss: 1.9070... Val Loss: 1.8760\n",
      "Epoch: 4/20... Step: 450... Loss: 1.8484... Val Loss: 1.8620\n",
      "Epoch: 4/20... Step: 460... Loss: 1.8316... Val Loss: 1.8495\n",
      "Epoch: 4/20... Step: 470... Loss: 1.8706... Val Loss: 1.8402\n",
      "Epoch: 4/20... Step: 480... Loss: 1.8476... Val Loss: 1.8290\n",
      "Epoch: 4/20... Step: 490... Loss: 1.8492... Val Loss: 1.8184\n",
      "Epoch: 4/20... Step: 500... Loss: 1.8460... Val Loss: 1.8040\n",
      "Epoch: 4/20... Step: 510... Loss: 1.8214... Val Loss: 1.7924\n",
      "Epoch: 4/20... Step: 520... Loss: 1.8391... Val Loss: 1.7871\n",
      "Epoch: 4/20... Step: 530... Loss: 1.7907... Val Loss: 1.7758\n",
      "Epoch: 4/20... Step: 540... Loss: 1.7599... Val Loss: 1.7631\n",
      "Epoch: 4/20... Step: 550... Loss: 1.8063... Val Loss: 1.7538\n",
      "Epoch: 5/20... Step: 560... Loss: 1.7638... Val Loss: 1.7466\n",
      "Epoch: 5/20... Step: 570... Loss: 1.7597... Val Loss: 1.7401\n",
      "Epoch: 5/20... Step: 580... Loss: 1.7338... Val Loss: 1.7270\n",
      "Epoch: 5/20... Step: 590... Loss: 1.7390... Val Loss: 1.7224\n",
      "Epoch: 5/20... Step: 600... Loss: 1.7238... Val Loss: 1.7159\n",
      "Epoch: 5/20... Step: 610... Loss: 1.7098... Val Loss: 1.7076\n",
      "Epoch: 5/20... Step: 620... Loss: 1.7177... Val Loss: 1.6959\n",
      "Epoch: 5/20... Step: 630... Loss: 1.7278... Val Loss: 1.6912\n",
      "Epoch: 5/20... Step: 640... Loss: 1.6965... Val Loss: 1.6819\n",
      "Epoch: 5/20... Step: 650... Loss: 1.6925... Val Loss: 1.6781\n",
      "Epoch: 5/20... Step: 660... Loss: 1.6666... Val Loss: 1.6677\n",
      "Epoch: 5/20... Step: 670... Loss: 1.6850... Val Loss: 1.6626\n",
      "Epoch: 5/20... Step: 680... Loss: 1.6900... Val Loss: 1.6571\n",
      "Epoch: 5/20... Step: 690... Loss: 1.6639... Val Loss: 1.6523\n",
      "Epoch: 6/20... Step: 700... Loss: 1.6608... Val Loss: 1.6438\n",
      "Epoch: 6/20... Step: 710... Loss: 1.6556... Val Loss: 1.6352\n",
      "Epoch: 6/20... Step: 720... Loss: 1.6406... Val Loss: 1.6274\n",
      "Epoch: 6/20... Step: 730... Loss: 1.6555... Val Loss: 1.6281\n",
      "Epoch: 6/20... Step: 740... Loss: 1.6227... Val Loss: 1.6190\n",
      "Epoch: 6/20... Step: 750... Loss: 1.6055... Val Loss: 1.6189\n",
      "Epoch: 6/20... Step: 760... Loss: 1.6366... Val Loss: 1.6091\n",
      "Epoch: 6/20... Step: 770... Loss: 1.6219... Val Loss: 1.6071\n",
      "Epoch: 6/20... Step: 780... Loss: 1.6047... Val Loss: 1.5966\n",
      "Epoch: 6/20... Step: 790... Loss: 1.5866... Val Loss: 1.5937\n",
      "Epoch: 6/20... Step: 800... Loss: 1.6141... Val Loss: 1.5900\n",
      "Epoch: 6/20... Step: 810... Loss: 1.5905... Val Loss: 1.5849\n",
      "Epoch: 6/20... Step: 820... Loss: 1.5550... Val Loss: 1.5826\n",
      "Epoch: 6/20... Step: 830... Loss: 1.5962... Val Loss: 1.5790\n",
      "Epoch: 7/20... Step: 840... Loss: 1.5586... Val Loss: 1.5715\n",
      "Epoch: 7/20... Step: 850... Loss: 1.5707... Val Loss: 1.5647\n",
      "Epoch: 7/20... Step: 860... Loss: 1.5559... Val Loss: 1.5563\n",
      "Epoch: 7/20... Step: 870... Loss: 1.5654... Val Loss: 1.5532\n",
      "Epoch: 7/20... Step: 880... Loss: 1.5628... Val Loss: 1.5541\n",
      "Epoch: 7/20... Step: 890... Loss: 1.5630... Val Loss: 1.5472\n",
      "Epoch: 7/20... Step: 900... Loss: 1.5403... Val Loss: 1.5412\n",
      "Epoch: 7/20... Step: 910... Loss: 1.5156... Val Loss: 1.5423\n",
      "Epoch: 7/20... Step: 920... Loss: 1.5408... Val Loss: 1.5320\n",
      "Epoch: 7/20... Step: 930... Loss: 1.5269... Val Loss: 1.5318\n",
      "Epoch: 7/20... Step: 940... Loss: 1.5304... Val Loss: 1.5268\n",
      "Epoch: 7/20... Step: 950... Loss: 1.5333... Val Loss: 1.5226\n",
      "Epoch: 7/20... Step: 960... Loss: 1.5404... Val Loss: 1.5209\n",
      "Epoch: 7/20... Step: 970... Loss: 1.5446... Val Loss: 1.5200\n",
      "Epoch: 8/20... Step: 980... Loss: 1.5118... Val Loss: 1.5105\n",
      "Epoch: 8/20... Step: 990... Loss: 1.5167... Val Loss: 1.5145\n",
      "Epoch: 8/20... Step: 1000... Loss: 1.5096... Val Loss: 1.5029\n",
      "Epoch: 8/20... Step: 1010... Loss: 1.5505... Val Loss: 1.5013\n",
      "Epoch: 8/20... Step: 1020... Loss: 1.5118... Val Loss: 1.5044\n",
      "Epoch: 8/20... Step: 1030... Loss: 1.4980... Val Loss: 1.4947\n",
      "Epoch: 8/20... Step: 1040... Loss: 1.5109... Val Loss: 1.4947\n",
      "Epoch: 8/20... Step: 1050... Loss: 1.4827... Val Loss: 1.4938\n",
      "Epoch: 8/20... Step: 1060... Loss: 1.4912... Val Loss: 1.4877\n",
      "Epoch: 8/20... Step: 1070... Loss: 1.4874... Val Loss: 1.4855\n",
      "Epoch: 8/20... Step: 1080... Loss: 1.4801... Val Loss: 1.4825\n",
      "Epoch: 8/20... Step: 1090... Loss: 1.4756... Val Loss: 1.4786\n",
      "Epoch: 8/20... Step: 1100... Loss: 1.4643... Val Loss: 1.4762\n",
      "Epoch: 8/20... Step: 1110... Loss: 1.4760... Val Loss: 1.4744\n",
      "Epoch: 9/20... Step: 1120... Loss: 1.4896... Val Loss: 1.4747\n",
      "Epoch: 9/20... Step: 1130... Loss: 1.4760... Val Loss: 1.4686\n",
      "Epoch: 9/20... Step: 1140... Loss: 1.4732... Val Loss: 1.4659\n",
      "Epoch: 9/20... Step: 1150... Loss: 1.4859... Val Loss: 1.4641\n",
      "Epoch: 9/20... Step: 1160... Loss: 1.4428... Val Loss: 1.4647\n",
      "Epoch: 9/20... Step: 1170... Loss: 1.4551... Val Loss: 1.4588\n",
      "Epoch: 9/20... Step: 1180... Loss: 1.4503... Val Loss: 1.4586\n",
      "Epoch: 9/20... Step: 1190... Loss: 1.4804... Val Loss: 1.4575\n",
      "Epoch: 9/20... Step: 1200... Loss: 1.4293... Val Loss: 1.4537\n",
      "Epoch: 9/20... Step: 1210... Loss: 1.4456... Val Loss: 1.4502\n",
      "Epoch: 9/20... Step: 1220... Loss: 1.4544... Val Loss: 1.4494\n",
      "Epoch: 9/20... Step: 1230... Loss: 1.4192... Val Loss: 1.4441\n",
      "Epoch: 9/20... Step: 1240... Loss: 1.4334... Val Loss: 1.4407\n",
      "Epoch: 9/20... Step: 1250... Loss: 1.4373... Val Loss: 1.4392\n",
      "Epoch: 10/20... Step: 1260... Loss: 1.4492... Val Loss: 1.4382\n",
      "Epoch: 10/20... Step: 1270... Loss: 1.4408... Val Loss: 1.4387\n",
      "Epoch: 10/20... Step: 1280... Loss: 1.4464... Val Loss: 1.4307\n",
      "Epoch: 10/20... Step: 1290... Loss: 1.4332... Val Loss: 1.4330\n",
      "Epoch: 10/20... Step: 1300... Loss: 1.4261... Val Loss: 1.4333\n",
      "Epoch: 10/20... Step: 1310... Loss: 1.4371... Val Loss: 1.4272\n",
      "Epoch: 10/20... Step: 1320... Loss: 1.4025... Val Loss: 1.4269\n",
      "Epoch: 10/20... Step: 1330... Loss: 1.4094... Val Loss: 1.4267\n",
      "Epoch: 10/20... Step: 1340... Loss: 1.3988... Val Loss: 1.4206\n"
     ]
    },
    {
     "name": "stdout",
     "output_type": "stream",
     "text": [
      "Epoch: 10/20... Step: 1350... Loss: 1.3944... Val Loss: 1.4226\n",
      "Epoch: 10/20... Step: 1360... Loss: 1.3905... Val Loss: 1.4185\n",
      "Epoch: 10/20... Step: 1370... Loss: 1.3770... Val Loss: 1.4142\n",
      "Epoch: 10/20... Step: 1380... Loss: 1.4263... Val Loss: 1.4147\n",
      "Epoch: 10/20... Step: 1390... Loss: 1.4273... Val Loss: 1.4132\n",
      "Epoch: 11/20... Step: 1400... Loss: 1.4258... Val Loss: 1.4133\n",
      "Epoch: 11/20... Step: 1410... Loss: 1.4435... Val Loss: 1.4103\n",
      "Epoch: 11/20... Step: 1420... Loss: 1.4285... Val Loss: 1.4053\n",
      "Epoch: 11/20... Step: 1430... Loss: 1.3904... Val Loss: 1.4036\n",
      "Epoch: 11/20... Step: 1440... Loss: 1.4177... Val Loss: 1.4061\n",
      "Epoch: 11/20... Step: 1450... Loss: 1.3519... Val Loss: 1.4063\n",
      "Epoch: 11/20... Step: 1460... Loss: 1.3680... Val Loss: 1.4048\n",
      "Epoch: 11/20... Step: 1470... Loss: 1.3754... Val Loss: 1.4028\n",
      "Epoch: 11/20... Step: 1480... Loss: 1.3865... Val Loss: 1.4000\n",
      "Epoch: 11/20... Step: 1490... Loss: 1.3764... Val Loss: 1.4003\n",
      "Epoch: 11/20... Step: 1500... Loss: 1.3756... Val Loss: 1.3972\n",
      "Epoch: 11/20... Step: 1510... Loss: 1.3506... Val Loss: 1.3939\n",
      "Epoch: 11/20... Step: 1520... Loss: 1.3871... Val Loss: 1.3932\n",
      "Epoch: 12/20... Step: 1530... Loss: 1.4415... Val Loss: 1.3941\n",
      "Epoch: 12/20... Step: 1540... Loss: 1.3913... Val Loss: 1.3891\n",
      "Epoch: 12/20... Step: 1550... Loss: 1.4001... Val Loss: 1.3886\n",
      "Epoch: 12/20... Step: 1560... Loss: 1.4102... Val Loss: 1.3838\n",
      "Epoch: 12/20... Step: 1570... Loss: 1.3625... Val Loss: 1.3877\n",
      "Epoch: 12/20... Step: 1580... Loss: 1.3271... Val Loss: 1.3844\n",
      "Epoch: 12/20... Step: 1590... Loss: 1.3363... Val Loss: 1.3837\n",
      "Epoch: 12/20... Step: 1600... Loss: 1.3595... Val Loss: 1.3825\n",
      "Epoch: 12/20... Step: 1610... Loss: 1.3416... Val Loss: 1.3826\n",
      "Epoch: 12/20... Step: 1620... Loss: 1.3482... Val Loss: 1.3778\n",
      "Epoch: 12/20... Step: 1630... Loss: 1.3744... Val Loss: 1.3772\n",
      "Epoch: 12/20... Step: 1640... Loss: 1.3441... Val Loss: 1.3751\n",
      "Epoch: 12/20... Step: 1650... Loss: 1.3253... Val Loss: 1.3698\n",
      "Epoch: 12/20... Step: 1660... Loss: 1.3705... Val Loss: 1.3675\n",
      "Epoch: 13/20... Step: 1670... Loss: 1.3402... Val Loss: 1.3731\n",
      "Epoch: 13/20... Step: 1680... Loss: 1.3589... Val Loss: 1.3724\n",
      "Epoch: 13/20... Step: 1690... Loss: 1.3435... Val Loss: 1.3712\n",
      "Epoch: 13/20... Step: 1700... Loss: 1.3423... Val Loss: 1.3657\n",
      "Epoch: 13/20... Step: 1710... Loss: 1.3132... Val Loss: 1.3659\n",
      "Epoch: 13/20... Step: 1720... Loss: 1.3325... Val Loss: 1.3642\n",
      "Epoch: 13/20... Step: 1730... Loss: 1.3679... Val Loss: 1.3656\n",
      "Epoch: 13/20... Step: 1740... Loss: 1.3352... Val Loss: 1.3646\n",
      "Epoch: 13/20... Step: 1750... Loss: 1.2991... Val Loss: 1.3678\n",
      "Epoch: 13/20... Step: 1760... Loss: 1.3273... Val Loss: 1.3624\n",
      "Epoch: 13/20... Step: 1770... Loss: 1.3497... Val Loss: 1.3613\n",
      "Epoch: 13/20... Step: 1780... Loss: 1.3156... Val Loss: 1.3614\n",
      "Epoch: 13/20... Step: 1790... Loss: 1.3122... Val Loss: 1.3594\n",
      "Epoch: 13/20... Step: 1800... Loss: 1.3353... Val Loss: 1.3547\n",
      "Epoch: 14/20... Step: 1810... Loss: 1.3416... Val Loss: 1.3582\n",
      "Epoch: 14/20... Step: 1820... Loss: 1.3216... Val Loss: 1.3542\n",
      "Epoch: 14/20... Step: 1830... Loss: 1.3479... Val Loss: 1.3521\n",
      "Epoch: 14/20... Step: 1840... Loss: 1.2800... Val Loss: 1.3534\n",
      "Epoch: 14/20... Step: 1850... Loss: 1.2846... Val Loss: 1.3520\n",
      "Epoch: 14/20... Step: 1860... Loss: 1.3357... Val Loss: 1.3538\n",
      "Epoch: 14/20... Step: 1870... Loss: 1.3282... Val Loss: 1.3509\n",
      "Epoch: 14/20... Step: 1880... Loss: 1.3214... Val Loss: 1.3480\n",
      "Epoch: 14/20... Step: 1890... Loss: 1.3443... Val Loss: 1.3514\n",
      "Epoch: 14/20... Step: 1900... Loss: 1.3224... Val Loss: 1.3410\n",
      "Epoch: 14/20... Step: 1910... Loss: 1.3110... Val Loss: 1.3429\n",
      "Epoch: 14/20... Step: 1920... Loss: 1.3148... Val Loss: 1.3397\n",
      "Epoch: 14/20... Step: 1930... Loss: 1.2848... Val Loss: 1.3402\n",
      "Epoch: 14/20... Step: 1940... Loss: 1.3418... Val Loss: 1.3386\n",
      "Epoch: 15/20... Step: 1950... Loss: 1.3047... Val Loss: 1.3469\n",
      "Epoch: 15/20... Step: 1960... Loss: 1.3046... Val Loss: 1.3336\n",
      "Epoch: 15/20... Step: 1970... Loss: 1.2974... Val Loss: 1.3315\n",
      "Epoch: 15/20... Step: 1980... Loss: 1.2888... Val Loss: 1.3359\n",
      "Epoch: 15/20... Step: 1990... Loss: 1.2888... Val Loss: 1.3307\n",
      "Epoch: 15/20... Step: 2000... Loss: 1.2777... Val Loss: 1.3338\n",
      "Epoch: 15/20... Step: 2010... Loss: 1.2920... Val Loss: 1.3320\n",
      "Epoch: 15/20... Step: 2020... Loss: 1.3138... Val Loss: 1.3262\n",
      "Epoch: 15/20... Step: 2030... Loss: 1.2847... Val Loss: 1.3290\n",
      "Epoch: 15/20... Step: 2040... Loss: 1.2980... Val Loss: 1.3243\n",
      "Epoch: 15/20... Step: 2050... Loss: 1.2803... Val Loss: 1.3268\n",
      "Epoch: 15/20... Step: 2060... Loss: 1.2880... Val Loss: 1.3194\n",
      "Epoch: 15/20... Step: 2070... Loss: 1.2928... Val Loss: 1.3234\n",
      "Epoch: 15/20... Step: 2080... Loss: 1.2858... Val Loss: 1.3202\n",
      "Epoch: 16/20... Step: 2090... Loss: 1.2982... Val Loss: 1.3257\n",
      "Epoch: 16/20... Step: 2100... Loss: 1.2793... Val Loss: 1.3203\n",
      "Epoch: 16/20... Step: 2110... Loss: 1.2753... Val Loss: 1.3179\n",
      "Epoch: 16/20... Step: 2120... Loss: 1.2865... Val Loss: 1.3200\n",
      "Epoch: 16/20... Step: 2130... Loss: 1.2572... Val Loss: 1.3158\n",
      "Epoch: 16/20... Step: 2140... Loss: 1.2613... Val Loss: 1.3183\n",
      "Epoch: 16/20... Step: 2150... Loss: 1.2933... Val Loss: 1.3155\n",
      "Epoch: 16/20... Step: 2160... Loss: 1.2662... Val Loss: 1.3137\n",
      "Epoch: 16/20... Step: 2170... Loss: 1.2697... Val Loss: 1.3128\n",
      "Epoch: 16/20... Step: 2180... Loss: 1.2621... Val Loss: 1.3071\n",
      "Epoch: 16/20... Step: 2190... Loss: 1.2881... Val Loss: 1.3075\n",
      "Epoch: 16/20... Step: 2200... Loss: 1.2658... Val Loss: 1.3063\n",
      "Epoch: 16/20... Step: 2210... Loss: 1.2243... Val Loss: 1.3008\n",
      "Epoch: 16/20... Step: 2220... Loss: 1.2748... Val Loss: 1.3006\n",
      "Epoch: 17/20... Step: 2230... Loss: 1.2426... Val Loss: 1.3088\n",
      "Epoch: 17/20... Step: 2240... Loss: 1.2659... Val Loss: 1.3065\n",
      "Epoch: 17/20... Step: 2250... Loss: 1.2440... Val Loss: 1.3011\n",
      "Epoch: 17/20... Step: 2260... Loss: 1.2547... Val Loss: 1.3045\n",
      "Epoch: 17/20... Step: 2270... Loss: 1.2616... Val Loss: 1.3014\n",
      "Epoch: 17/20... Step: 2280... Loss: 1.2646... Val Loss: 1.2982\n",
      "Epoch: 17/20... Step: 2290... Loss: 1.2592... Val Loss: 1.2984\n",
      "Epoch: 17/20... Step: 2300... Loss: 1.2201... Val Loss: 1.2976\n",
      "Epoch: 17/20... Step: 2310... Loss: 1.2434... Val Loss: 1.2992\n",
      "Epoch: 17/20... Step: 2320... Loss: 1.2434... Val Loss: 1.2965\n",
      "Epoch: 17/20... Step: 2330... Loss: 1.2349... Val Loss: 1.2976\n",
      "Epoch: 17/20... Step: 2340... Loss: 1.2595... Val Loss: 1.2961\n",
      "Epoch: 17/20... Step: 2350... Loss: 1.2603... Val Loss: 1.2958\n",
      "Epoch: 17/20... Step: 2360... Loss: 1.2561... Val Loss: 1.2945\n",
      "Epoch: 18/20... Step: 2370... Loss: 1.2454... Val Loss: 1.2949\n",
      "Epoch: 18/20... Step: 2380... Loss: 1.2412... Val Loss: 1.2942\n",
      "Epoch: 18/20... Step: 2390... Loss: 1.2324... Val Loss: 1.2919\n",
      "Epoch: 18/20... Step: 2400... Loss: 1.2608... Val Loss: 1.2982\n",
      "Epoch: 18/20... Step: 2410... Loss: 1.2576... Val Loss: 1.2966\n",
      "Epoch: 18/20... Step: 2420... Loss: 1.2383... Val Loss: 1.2938\n",
      "Epoch: 18/20... Step: 2430... Loss: 1.2449... Val Loss: 1.2908\n",
      "Epoch: 18/20... Step: 2440... Loss: 1.2361... Val Loss: 1.2935\n",
      "Epoch: 18/20... Step: 2450... Loss: 1.2240... Val Loss: 1.2902\n",
      "Epoch: 18/20... Step: 2460... Loss: 1.2400... Val Loss: 1.2859\n",
      "Epoch: 18/20... Step: 2470... Loss: 1.2303... Val Loss: 1.2842\n",
      "Epoch: 18/20... Step: 2480... Loss: 1.2276... Val Loss: 1.2834\n",
      "Epoch: 18/20... Step: 2490... Loss: 1.2177... Val Loss: 1.2850\n",
      "Epoch: 18/20... Step: 2500... Loss: 1.2279... Val Loss: 1.2863\n",
      "Epoch: 19/20... Step: 2510... Loss: 1.2289... Val Loss: 1.2846\n",
      "Epoch: 19/20... Step: 2520... Loss: 1.2423... Val Loss: 1.2913\n",
      "Epoch: 19/20... Step: 2530... Loss: 1.2540... Val Loss: 1.2865\n",
      "Epoch: 19/20... Step: 2540... Loss: 1.2613... Val Loss: 1.2862\n",
      "Epoch: 19/20... Step: 2550... Loss: 1.2215... Val Loss: 1.2853\n",
      "Epoch: 19/20... Step: 2560... Loss: 1.2216... Val Loss: 1.2781\n",
      "Epoch: 19/20... Step: 2570... Loss: 1.2178... Val Loss: 1.2781\n",
      "Epoch: 19/20... Step: 2580... Loss: 1.2522... Val Loss: 1.2791\n",
      "Epoch: 19/20... Step: 2590... Loss: 1.2123... Val Loss: 1.2817\n",
      "Epoch: 19/20... Step: 2600... Loss: 1.2167... Val Loss: 1.2782\n",
      "Epoch: 19/20... Step: 2610... Loss: 1.2254... Val Loss: 1.2781\n",
      "Epoch: 19/20... Step: 2620... Loss: 1.2106... Val Loss: 1.2777\n",
      "Epoch: 19/20... Step: 2630... Loss: 1.2204... Val Loss: 1.2783\n",
      "Epoch: 19/20... Step: 2640... Loss: 1.2155... Val Loss: 1.2778\n",
      "Epoch: 20/20... Step: 2650... Loss: 1.2291... Val Loss: 1.2805\n"
     ]
    },
    {
     "name": "stdout",
     "output_type": "stream",
     "text": [
      "Epoch: 20/20... Step: 2660... Loss: 1.2354... Val Loss: 1.2827\n",
      "Epoch: 20/20... Step: 2670... Loss: 1.2374... Val Loss: 1.2816\n",
      "Epoch: 20/20... Step: 2680... Loss: 1.2279... Val Loss: 1.2755\n",
      "Epoch: 20/20... Step: 2690... Loss: 1.2182... Val Loss: 1.2800\n",
      "Epoch: 20/20... Step: 2700... Loss: 1.2264... Val Loss: 1.2737\n",
      "Epoch: 20/20... Step: 2710... Loss: 1.1875... Val Loss: 1.2768\n",
      "Epoch: 20/20... Step: 2720... Loss: 1.2019... Val Loss: 1.2722\n",
      "Epoch: 20/20... Step: 2730... Loss: 1.1910... Val Loss: 1.2704\n",
      "Epoch: 20/20... Step: 2740... Loss: 1.1884... Val Loss: 1.2721\n",
      "Epoch: 20/20... Step: 2750... Loss: 1.1881... Val Loss: 1.2739\n",
      "Epoch: 20/20... Step: 2760... Loss: 1.1960... Val Loss: 1.2673\n",
      "Epoch: 20/20... Step: 2770... Loss: 1.2287... Val Loss: 1.2700\n",
      "Epoch: 20/20... Step: 2780... Loss: 1.2529... Val Loss: 1.2704\n"
     ]
    }
   ],
   "source": [
    "batch_size = 128\n",
    "seq_length = 100\n",
    "n_epochs =  20 # start small if you are just testing initial behavior\n",
    "\n",
    "# train the model\n",
    "train(net, encoded, epochs=n_epochs, batch_size=batch_size, seq_length=seq_length, lr=0.001, print_every=10)"
   ]
  },
  {
   "cell_type": "markdown",
   "metadata": {},
   "source": [
    "## Getting the best model\n",
    "\n",
    "To set your hyperparameters to get the best performance, you'll want to watch the training and validation losses. If your training loss is much lower than the validation loss, you're overfitting. Increase regularization (more dropout) or use a smaller network. If the training and validation losses are close, you're underfitting so you can increase the size of the network."
   ]
  },
  {
   "cell_type": "markdown",
   "metadata": {},
   "source": [
    "## Hyperparameters\n",
    "\n",
    "Here are the hyperparameters for the network.\n",
    "\n",
    "In defining the model:\n",
    "* `n_hidden` - The number of units in the hidden layers.\n",
    "* `n_layers` - Number of hidden LSTM layers to use.\n",
    "\n",
    "We assume that dropout probability and learning rate will be kept at the default, in this example.\n",
    "\n",
    "And in training:\n",
    "* `batch_size` - Number of sequences running through the network in one pass.\n",
    "* `seq_length` - Number of characters in the sequence the network is trained on. Larger is better typically, the network will learn more long range dependencies. But it takes longer to train. 100 is typically a good number here.\n",
    "* `lr` - Learning rate for training\n",
    "\n",
    "Here's some good advice from Andrej Karpathy on training the network. I'm going to copy it in here for your benefit, but also link to [where it originally came from](https://github.com/karpathy/char-rnn#tips-and-tricks).\n",
    "\n",
    "> ## Tips and Tricks\n",
    "\n",
    ">### Monitoring Validation Loss vs. Training Loss\n",
    ">If you're somewhat new to Machine Learning or Neural Networks it can take a bit of expertise to get good models. The most important quantity to keep track of is the difference between your training loss (printed during training) and the validation loss (printed once in a while when the RNN is run on the validation data (by default every 1000 iterations)). In particular:\n",
    "\n",
    "> - If your training loss is much lower than validation loss then this means the network might be **overfitting**. Solutions to this are to decrease your network size, or to increase dropout. For example you could try dropout of 0.5 and so on.\n",
    "> - If your training/validation loss are about equal then your model is **underfitting**. Increase the size of your model (either number of layers or the raw number of neurons per layer)\n",
    "\n",
    "> ### Approximate number of parameters\n",
    "\n",
    "> The two most important parameters that control the model are `n_hidden` and `n_layers`. I would advise that you always use `n_layers` of either 2/3. The `n_hidden` can be adjusted based on how much data you have. The two important quantities to keep track of here are:\n",
    "\n",
    "> - The number of parameters in your model. This is printed when you start training.\n",
    "> - The size of your dataset. 1MB file is approximately 1 million characters.\n",
    "\n",
    ">These two should be about the same order of magnitude. It's a little tricky to tell. Here are some examples:\n",
    "\n",
    "> - I have a 100MB dataset and I'm using the default parameter settings (which currently print 150K parameters). My data size is significantly larger (100 mil >> 0.15 mil), so I expect to heavily underfit. I am thinking I can comfortably afford to make `n_hidden` larger.\n",
    "> - I have a 10MB dataset and running a 10 million parameter model. I'm slightly nervous and I'm carefully monitoring my validation loss. If it's larger than my training loss then I may want to try to increase dropout a bit and see if that helps the validation loss.\n",
    "\n",
    "> ### Best models strategy\n",
    "\n",
    ">The winning strategy to obtaining very good models (if you have the compute time) is to always err on making the network larger (as large as you're willing to wait for it to compute) and then try different dropout values (between 0,1). Whatever model has the best validation performance (the loss, written in the checkpoint filename, low is good) is the one you should use in the end.\n",
    "\n",
    ">It is very common in deep learning to run many different models with many different hyperparameter settings, and in the end take whatever checkpoint gave the best validation performance.\n",
    "\n",
    ">By the way, the size of your training and validation splits are also parameters. Make sure you have a decent amount of data in your validation set or otherwise the validation performance will be noisy and not very informative."
   ]
  },
  {
   "cell_type": "markdown",
   "metadata": {},
   "source": [
    "## Checkpoint\n",
    "\n",
    "After training, we'll save the model so we can load it again later if we need too. Here I'm saving the parameters needed to create the same architecture, the hidden layer hyperparameters and the text characters."
   ]
  },
  {
   "cell_type": "code",
   "execution_count": 220,
   "metadata": {},
   "outputs": [],
   "source": [
    "# change the name, for saving multiple files\n",
    "model_name = 'rnn_x_epoch.net'\n",
    "\n",
    "checkpoint = {'n_hidden': net.n_hidden,\n",
    "              'n_layers': net.n_layers,\n",
    "              'state_dict': net.state_dict(),\n",
    "              'tokens': net.chars}\n",
    "\n",
    "with open(model_name, 'wb') as f:\n",
    "    torch.save(checkpoint, f)"
   ]
  },
  {
   "cell_type": "markdown",
   "metadata": {},
   "source": [
    "---\n",
    "## Making Predictions\n",
    "\n",
    "Now that the model is trained, we'll want to sample from it and make predictions about next characters! To sample, we pass in a character and have the network predict the next character. Then we take that character, pass it back in, and get another predicted character. Just keep doing this and you'll generate a bunch of text!\n",
    "\n",
    "### A note on the `predict`  function\n",
    "\n",
    "The output of our RNN is from a fully-connected layer and it outputs a **distribution of next-character scores**.\n",
    "\n",
    "> To actually get the next character, we apply a softmax function, which gives us a *probability* distribution that we can then sample to predict the next character.\n",
    "\n",
    "### Top K sampling\n",
    "\n",
    "Our predictions come from a categorical probability distribution over all the possible characters. We can make the sample text and make it more reasonable to handle (with less variables) by only considering some $K$ most probable characters. This will prevent the network from giving us completely absurd characters while allowing it to introduce some noise and randomness into the sampled text. Read more about [topk, here](https://pytorch.org/docs/stable/torch.html#torch.topk).\n"
   ]
  },
  {
   "cell_type": "code",
   "execution_count": 221,
   "metadata": {},
   "outputs": [],
   "source": [
    "def predict(net, char, h=None, top_k=None):\n",
    "        ''' Given a character, predict the next character.\n",
    "            Returns the predicted character and the hidden state.\n",
    "        '''\n",
    "        \n",
    "        # tensor inputs\n",
    "        x = np.array([[net.char2int[char]]])\n",
    "        x = one_hot_encode(x, len(net.chars))\n",
    "        inputs = torch.from_numpy(x)\n",
    "        \n",
    "        if(train_on_gpu):\n",
    "            inputs = inputs.cuda()\n",
    "        \n",
    "        # detach hidden state from history\n",
    "        h = tuple([each.data for each in h])\n",
    "        # get the output of the model\n",
    "        out, h = net(inputs, h)\n",
    "\n",
    "        # get the character probabilities\n",
    "        p = F.softmax(out, dim=1).data\n",
    "        if(train_on_gpu):\n",
    "            p = p.cpu() # move to cpu\n",
    "        \n",
    "        # get top characters\n",
    "        if top_k is None:\n",
    "            top_ch = np.arange(len(net.chars))\n",
    "        else:\n",
    "            p, top_ch = p.topk(top_k)\n",
    "            top_ch = top_ch.numpy().squeeze()\n",
    "        \n",
    "        # select the likely next character with some element of randomness\n",
    "        p = p.numpy().squeeze()\n",
    "        char = np.random.choice(top_ch, p=p/p.sum())\n",
    "        \n",
    "        # return the encoded value of the predicted char and the hidden state\n",
    "        return net.int2char[char], h"
   ]
  },
  {
   "cell_type": "markdown",
   "metadata": {},
   "source": [
    "### Priming and generating text \n",
    "\n",
    "Typically you'll want to prime the network so you can build up a hidden state. Otherwise the network will start out generating characters at random. In general the first bunch of characters will be a little rough since it hasn't built up a long history of characters to predict from."
   ]
  },
  {
   "cell_type": "code",
   "execution_count": 222,
   "metadata": {},
   "outputs": [],
   "source": [
    "def sample(net, size, prime='The', top_k=None):\n",
    "        \n",
    "    if(train_on_gpu):\n",
    "        net.cuda()\n",
    "    else:\n",
    "        net.cpu()\n",
    "    \n",
    "    net.eval() # eval mode\n",
    "    \n",
    "    # First off, run through the prime characters\n",
    "    chars = [ch for ch in prime]\n",
    "    h = net.init_hidden(1)\n",
    "    for ch in prime:\n",
    "        char, h = predict(net, ch, h, top_k=top_k)\n",
    "\n",
    "    chars.append(char)\n",
    "    \n",
    "    # Now pass in the previous character and get a new one\n",
    "    for ii in range(size):\n",
    "        char, h = predict(net, chars[-1], h, top_k=top_k)\n",
    "        chars.append(char)\n",
    "\n",
    "    return ''.join(chars)"
   ]
  },
  {
   "cell_type": "code",
   "execution_count": 223,
   "metadata": {},
   "outputs": [
    {
     "name": "stdout",
     "output_type": "stream",
     "text": [
      "Anna, and\n",
      "so as to be at his first. All the midickers saw them with the same\n",
      "starming as the matter to be a long acquaintances, and without hearing the sick of\n",
      "watch. He felt seen her for seeing his heart, who was to be at a standing of\n",
      "this sounds. He was so lovely and with as he heard it was not to said\n",
      "it.\n",
      "\n",
      "\"Ah! you can be a minute of all hearing off, but I changed to have to see it.\n",
      "And he'd brought her? I'm not a past, would be deally studies of my\n",
      "livery to matress, but I see to them on the poor to my words and the\n",
      "most chain, and someone. I said that I was so suce a mide, and I consider\n",
      "the country, I cannot come tried to drawn it. Haven't the same time to be\n",
      "to go?\" said Vronsky.\n",
      "\n",
      "\"Yes, I shall grown the passecuares. When I'm taking all how it\n",
      "suspectidally, and I have so love and meeting the passor and\n",
      "the meaning, and I see a men that they're an accountment to be\n",
      "that they marrying the consciousness, and there has all of the\n",
      "pleasant were women time, and he won't give it, and so i\n"
     ]
    }
   ],
   "source": [
    "print(sample(net, 1000, prime='Anna', top_k=5))"
   ]
  },
  {
   "cell_type": "markdown",
   "metadata": {},
   "source": [
    "## Loading a checkpoint"
   ]
  },
  {
   "cell_type": "code",
   "execution_count": 224,
   "metadata": {},
   "outputs": [],
   "source": [
    "# Here we have loaded in a model that trained over 20 epochs `rnn_20_epoch.net`\n",
    "with open('rnn_x_epoch.net', 'rb') as f:\n",
    "    checkpoint = torch.load(f)\n",
    "    \n",
    "loaded = CharRNN(checkpoint['tokens'], n_hidden=checkpoint['n_hidden'], n_layers=checkpoint['n_layers'])\n",
    "loaded.load_state_dict(checkpoint['state_dict'])"
   ]
  },
  {
   "cell_type": "code",
   "execution_count": 225,
   "metadata": {},
   "outputs": [
    {
     "name": "stdout",
     "output_type": "stream",
     "text": [
      "And Levin said and\n",
      "through a life, to believe what with the conviction to the men.\n",
      "\n",
      "\"I will be the mushroom of tea,s of the strange sister, had a complete\n",
      "man of the party to the most mote forest talk about. We have to begin your\n",
      "face,\" thought Anna, and showing together, and satisfaction, and talking\n",
      "out of the rind than wanting to her hurgicaly. \"I'm so long ago, and I have\n",
      "called off her, and the signife-to mane and musure to take a little and say\n",
      "to him if I don't bring you. He was so much out of thim in the\n",
      "familiar son, but I work over it, to more anything. That's not a\n",
      "settled and teers.\"\n",
      "\n",
      "\"I alwnyw, to be the power to the prince.\n",
      "\n",
      "It would be all tirely a letter.\"\n",
      "\n",
      "\"I am seeming to suppost, but I have notited it. There is, I don't know you. I\n",
      "cannot cancing a strange to tome to start to her such as he will be divided in his\n",
      "country to him, she will not tave the moment, and I can't be at to\n",
      "begin the country,\" she said. \"You cannot come and shall make her, and was\n",
      "it as I see anything. I could not be angry, who can be no one,\" she would\n",
      "have tempes to the carriage out which he had been taking her feelings\n",
      "in the countess, with a common and a lady of his sincere, and straight\n",
      "and straight into his shoulders, and all sorting her soul of his head on\n",
      "his stall and tears, she would not here went about in the children\n",
      "of thrising and waiting to the conversation.\n",
      "\n",
      "\"Anna with him.\"\n",
      "\n",
      "\"Then woming I can't laugh to me to talk about?\"\n",
      "\n",
      "\"Yes, yes!\" he said, giiting away the cold and houreself, and\n",
      "he would not have to do with his was answer with himself to his hands,\n",
      "and should see her. \"Who has the carriage and the point of happiness\n",
      "and her to the chain, and what are ask you so to say that I'm never\n",
      "say. There's not, and I don't say to you. With a signion, we must\n",
      "be any person the peasants. And I'm all an accomprehending of in the family for\n",
      "this,\" said Sviazhsky. \"He would say a better trush. And I cannot be\n",
      "discased. We are not to be much of it. To her, how didn't you know? What di\n"
     ]
    }
   ],
   "source": [
    "# Sample using a loaded model\n",
    "print(sample(loaded, 2000, top_k=5, prime=\"And Levin said\"))"
   ]
  },
  {
   "cell_type": "code",
   "execution_count": null,
   "metadata": {},
   "outputs": [],
   "source": []
  },
  {
   "cell_type": "code",
   "execution_count": null,
   "metadata": {},
   "outputs": [],
   "source": []
  }
 ],
 "metadata": {
  "kernelspec": {
   "display_name": "Python 3",
   "language": "python",
   "name": "python3"
  },
  "language_info": {
   "codemirror_mode": {
    "name": "ipython",
    "version": 3
   },
   "file_extension": ".py",
   "mimetype": "text/x-python",
   "name": "python",
   "nbconvert_exporter": "python",
   "pygments_lexer": "ipython3",
   "version": "3.7.2"
  }
 },
 "nbformat": 4,
 "nbformat_minor": 2
}
